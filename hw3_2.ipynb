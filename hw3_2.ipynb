{
  "nbformat": 4,
  "nbformat_minor": 0,
  "metadata": {
    "colab": {
      "provenance": [],
      "authorship_tag": "ABX9TyOCWuU35PaVXuDaC5z7f4qk",
      "include_colab_link": true
    },
    "kernelspec": {
      "name": "python3",
      "display_name": "Python 3"
    },
    "language_info": {
      "name": "python"
    }
  },
  "cells": [
    {
      "cell_type": "markdown",
      "metadata": {
        "id": "view-in-github",
        "colab_type": "text"
      },
      "source": [
        "<a href=\"https://colab.research.google.com/github/binodrizal/DSIC401/blob/main/hw3_2.ipynb\" target=\"_parent\"><img src=\"https://colab.research.google.com/assets/colab-badge.svg\" alt=\"Open In Colab\"/></a>"
      ]
    },
    {
      "cell_type": "code",
      "execution_count": null,
      "metadata": {
        "colab": {
          "base_uri": "https://localhost:8080/"
        },
        "id": "CGzuccn2icCC",
        "outputId": "ff9e91c0-9e0f-4c0d-d888-c59e8f33be43"
      },
      "outputs": [
        {
          "output_type": "execute_result",
          "data": {
            "text/plain": [
              "array(['Unnamed: 0', 'tailnum', 'year', 'type', 'manufacturer', 'model',\n",
              "       'engines', 'seats', 'speed', 'engine'], dtype=object)"
            ]
          },
          "metadata": {},
          "execution_count": 1
        }
      ],
      "source": [
        "import pandas as pd \n",
        "import numpy as np \n",
        "url1=\"https://raw.githubusercontent.com/gjm112/DSCI401/main/data/flights.csv\"\n",
        "url2=\"https://raw.githubusercontent.com/gjm112/DSCI401/599e256302926e1d94a441370e995b6a4e97f1ec/data/planes.csv\"\n",
        "data_flight=pd.read_csv(url1)\n",
        "data_plane=pd.read_csv(url2)\n",
        "data_plane.columns.values\n"
      ]
    },
    {
      "cell_type": "code",
      "source": [
        "data_flight.columns.values\n"
      ],
      "metadata": {
        "colab": {
          "base_uri": "https://localhost:8080/"
        },
        "id": "O96bTX4TmyFO",
        "outputId": "f2c164f9-74e4-43e3-9786-0e9571dbfd86"
      },
      "execution_count": null,
      "outputs": [
        {
          "output_type": "execute_result",
          "data": {
            "text/plain": [
              "array(['year', 'month', 'day', 'dep_time', 'sched_dep_time', 'dep_delay',\n",
              "       'arr_time', 'sched_arr_time', 'arr_delay', 'carrier', 'flight',\n",
              "       'tailnum', 'origin', 'dest', 'air_time', 'distance', 'hour',\n",
              "       'minute', 'time_hour'], dtype=object)"
            ]
          },
          "metadata": {},
          "execution_count": 2
        }
      ]
    },
    {
      "cell_type": "code",
      "source": [
        "data_2ap=data_plane[[\"tailnum\", \"year\"]].sort_values(\"year\").reset_index(drop=True)\n",
        "newdata_2ap=data_2ap.rename(columns={\"year\":\"yearMade\"})\n",
        "data_2a=pd.merge(data_flight,newdata_2ap,on=\"tailnum\",how=\"inner\").sort_values(\"yearMade\").reset_index(drop=True)\n",
        "data_2a.loc[data_2a[\"yearMade\"]==1956.0][\"tailnum\"]\n"
      ],
      "metadata": {
        "colab": {
          "base_uri": "https://localhost:8080/"
        },
        "id": "Qdldgvz1m_Wi",
        "outputId": "20b11ff1-9d72-4b98-bed3-d6d21e59b131"
      },
      "execution_count": null,
      "outputs": [
        {
          "output_type": "execute_result",
          "data": {
            "text/plain": [
              "0     N381AA\n",
              "1     N381AA\n",
              "2     N381AA\n",
              "3     N381AA\n",
              "4     N381AA\n",
              "5     N381AA\n",
              "6     N381AA\n",
              "7     N381AA\n",
              "8     N381AA\n",
              "9     N381AA\n",
              "10    N381AA\n",
              "11    N381AA\n",
              "12    N381AA\n",
              "13    N381AA\n",
              "14    N381AA\n",
              "15    N381AA\n",
              "16    N381AA\n",
              "17    N381AA\n",
              "18    N381AA\n",
              "19    N381AA\n",
              "20    N381AA\n",
              "21    N381AA\n",
              "Name: tailnum, dtype: object"
            ]
          },
          "metadata": {},
          "execution_count": 3
        }
      ]
    },
    {
      "cell_type": "markdown",
      "source": [
        "#solution of 2b:\n",
        "\n",
        "\n"
      ],
      "metadata": {
        "id": "ymzv2CWp_aKX"
      }
    },
    {
      "cell_type": "code",
      "source": [
        "data_2b=pd.merge(data_flight,data_plane, on=\"tailnum\", how=\"inner\")\n",
        "data_2b[(data_2b.origin == 'JFK') | (data_2b.origin == \"LGA\") | (data_2b.origin == \"EWR\")].reset_index(drop=True)\n",
        "df_2b=data_2b[[\"tailnum\",\"origin\"]].groupby(\"tailnum\").sum().reset_index(drop=True)\n",
        "df_2b[df_2b.columns[0]].count()"
      ],
      "metadata": {
        "colab": {
          "base_uri": "https://localhost:8080/"
        },
        "id": "cu2QdCiN_4U4",
        "outputId": "a6fd7928-6d13-4482-f01a-14be6cb3f45a"
      },
      "execution_count": null,
      "outputs": [
        {
          "output_type": "execute_result",
          "data": {
            "text/plain": [
              "3322"
            ]
          },
          "metadata": {},
          "execution_count": 39
        }
      ]
    }
  ]
}